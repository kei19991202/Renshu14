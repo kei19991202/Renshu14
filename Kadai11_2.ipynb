{
 "cells": [
  {
   "cell_type": "code",
   "execution_count": null,
   "metadata": {
    "collapsed": true
   },
   "outputs": [],
   "source": [
    "def get_max_height_person():\n",
    "    max_height=0\n",
    "    for person in persons:\n",
    "        if max_height<person.height:\n",
    "            max_height=person.height\n",
    "            max_height_person=person\n",
    "    return max_height_person\n",
    "\n",
    "def get_average_height():\n",
    "    total=0\n",
    "    for person in persons:\n",
    "        total+=person.weight\n",
    "    total/"
   ]
  }
 ],
 "metadata": {
  "kernelspec": {
   "display_name": "Python 3",
   "language": "python",
   "name": "python3"
  },
  "language_info": {
   "codemirror_mode": {
    "name": "ipython",
    "version": 3
   },
   "file_extension": ".py",
   "mimetype": "text/x-python",
   "name": "python",
   "nbconvert_exporter": "python",
   "pygments_lexer": "ipython3",
   "version": "3.6.3"
  }
 },
 "nbformat": 4,
 "nbformat_minor": 2
}
